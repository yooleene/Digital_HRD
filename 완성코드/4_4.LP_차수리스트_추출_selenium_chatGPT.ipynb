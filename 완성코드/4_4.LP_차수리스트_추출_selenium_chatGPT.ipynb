{
 "cells": [
  {
   "cell_type": "markdown",
   "metadata": {},
   "source": [
    "- LP 로그인"
   ]
  },
  {
   "cell_type": "code",
   "execution_count": null,
   "metadata": {},
   "outputs": [],
   "source": [
    "'''\n",
    "아래의 코드를 기억해줘. 그리고 이 코드를 기반으로 기능을 계속 발전시켜 나갈거야\n",
    "\n",
    "#1. 인터넷 브라우저 열기\n",
    "from selenium import webdriver\n",
    "from selenium.webdriver.common.by import By\n",
    "from selenium.webdriver.common.keys import Keys\n",
    "\n",
    "driver = webdriver.Chrome()\n",
    "\n",
    "\n",
    "내가 제공한 코드를 기반으로 아래의 기능을 추가하여 발전시켜 줘\n",
    "\n",
    "#2. https://lp.posco.co.kr/S22/S22A10/member/login/loginForm.do 에 접속하고 창을 최대화\n",
    "\n",
    "\n",
    "위의 코드를 기반으로 아래의 기능을 추가하여 발전시켜줘\n",
    "\n",
    "#3. id=\"email\" 요소에 'user_mail@poscohrd.com' 입력\n",
    "#4. 패스워드를 입력받아 id=\"password\" 요소에 입력\n",
    "#5. class=\"btn-typeA\" 요소를 클릭\n",
    "'''"
   ]
  },
  {
   "cell_type": "code",
   "execution_count": null,
   "metadata": {},
   "outputs": [],
   "source": [
    "from selenium import webdriver\n",
    "from selenium.webdriver.common.by import By\n",
    "from selenium.webdriver.common.keys import Keys\n",
    "\n",
    "# 1. 인터넷 브라우저 열기\n",
    "driver = webdriver.Chrome()\n",
    "\n",
    "# 2. https://lp.posco.co.kr/S22/S22A10/member/login/loginForm.do 에 접속하고 창을 최대화\n",
    "driver.get(\"https://lp.posco.co.kr/S22/S22A10/member/login/loginForm.do\")\n",
    "driver.maximize_window()\n",
    "\n",
    "# 3. id=\"email\" 요소에 'yooleenes@poscohrd.com' 입력\n",
    "email_element = driver.find_element(By.ID, \"email\")\n",
    "email_element.send_keys(\"user_mail@poscohrd.com\")\n",
    "\n",
    "# 4. 패스워드를 입력받아 id=\"password\" 요소에 입력\n",
    "password = input(\"패스워드를 입력하세요: \")\n",
    "password_element = driver.find_element(By.ID, \"password\")\n",
    "password_element.send_keys(password)\n",
    "\n",
    "# 5. class=\"btn-typeA\" 요소를 클릭\n",
    "btn_element = driver.find_element(By.CLASS_NAME, \"btn-typeA\")\n",
    "btn_element.click()"
   ]
  },
  {
   "cell_type": "code",
   "execution_count": null,
   "metadata": {},
   "outputs": [],
   "source": [
    "'''\n",
    "위의 코드를 기반으로 아래의 기능을 추가하여 발전시켜줘\n",
    "\n",
    "#4의 input을 패스워드 타입으로 입력 받으려면?\n",
    "'''"
   ]
  },
  {
   "cell_type": "code",
   "execution_count": null,
   "metadata": {},
   "outputs": [],
   "source": [
    "import getpass\n",
    "from selenium import webdriver\n",
    "from selenium.webdriver.common.by import By\n",
    "from selenium.webdriver.common.keys import Keys\n",
    "\n",
    "# 인터넷 브라우저 열기\n",
    "driver = webdriver.Chrome()\n",
    "\n",
    "# https://lp.posco.co.kr/S22/S22A10/member/login/loginForm.do 접속하고 창을 최대화\n",
    "driver.get(\"https://lp.posco.co.kr/S22/S22A10/member/login/loginForm.do\")\n",
    "driver.maximize_window()\n",
    "\n",
    "# id=\"email\" 요소에 'yooleenes@poscohrd.com' 입력\n",
    "email_element = driver.find_element(By.ID, \"email\")\n",
    "email_element.send_keys(\"yooleenes@poscohrd.com\")\n",
    "\n",
    "# 패스워드를 안전하게 입력받아 id=\"password\" 요소에 입력\n",
    "password = getpass.getpass(\"패스워드를 입력하세요: \")\n",
    "password_element = driver.find_element(By.ID, \"password\")\n",
    "password_element.send_keys(password)\n",
    "\n",
    "# class=\"btn-typeA\" 요소를 클릭\n",
    "btn_element = driver.find_element(By.CLASS_NAME, \"btn-typeA\")\n",
    "btn_element.click()"
   ]
  },
  {
   "cell_type": "markdown",
   "metadata": {},
   "source": [
    "- Profile 설정 - 인재창조원 집합교육 운영자"
   ]
  },
  {
   "cell_type": "code",
   "execution_count": null,
   "metadata": {},
   "outputs": [],
   "source": [
    "'''\n",
    "아래의 코드를 기억해줘. 그리고 이 코드를 기반으로 기능을 계속 발전시켜 나갈거야\n",
    "\n",
    "#4.의 패스워드 입력은 getpass로 입력을 받아줘\n",
    "#6. 패키지 불러오기 \n",
    "from selenium.webdriver.support.ui import Select\n",
    "\n",
    "\n",
    "내가 제공한 코드를 기반으로 아래의 기능을 추가하여 발전시켜 줘\n",
    "\n",
    "#7. 5초 대기하고, id=\"btnMy\" 요소를 클릭\n",
    "#8. xpath가 /html/body/header/div[2]/div[4]/select 인 요소를 select 하기\n",
    "#9. value=\"C_00000001\"인 옵션을 선택\n",
    "'''"
   ]
  },
  {
   "cell_type": "code",
   "execution_count": null,
   "metadata": {},
   "outputs": [],
   "source": [
    "import getpass\n",
    "import time\n",
    "from selenium import webdriver\n",
    "from selenium.webdriver.common.by import By\n",
    "from selenium.webdriver.support.ui import Select\n",
    "\n",
    "# 인터넷 브라우저 열기\n",
    "driver = webdriver.Chrome()\n",
    "\n",
    "# https://lp.posco.co.kr/S22/S22A10/member/login/loginForm.do 접속하고 창을 최대화\n",
    "driver.get(\"https://lp.posco.co.kr/S22/S22A10/member/login/loginForm.do\")\n",
    "driver.maximize_window()\n",
    "\n",
    "# id=\"email\" 요소에 'yooleenes@poscohrd.com' 입력\n",
    "email_element = driver.find_element(By.ID, \"email\")\n",
    "email_element.send_keys(\"yooleenes@poscohrd.com\")\n",
    "\n",
    "# 패스워드를 안전하게 입력받아 id=\"password\" 요소에 입력\n",
    "password = getpass.getpass(\"패스워드를 입력하세요: \")\n",
    "password_element = driver.find_element(By.ID, \"password\")\n",
    "password_element.send_keys(password)\n",
    "\n",
    "# class=\"btn-typeA\" 요소를 클릭\n",
    "btn_element = driver.find_element(By.CLASS_NAME, \"btn-typeA\")\n",
    "btn_element.click()\n",
    "\n",
    "# 5초 대기하고, id=\"btnMy\" 요소를 클릭\n",
    "time.sleep(5)\n",
    "btn_my_element = driver.find_element(By.ID, \"btnMy\")\n",
    "btn_my_element.click()\n",
    "\n",
    "# xpath가 /html/body/header/div[2]/div[4]/select 인 요소를 select 하기\n",
    "select_element = Select(driver.find_element(By.XPATH, \"/html/body/header/div[2]/div[4]/select\"))\n",
    "\n",
    "# value=\"C_00000001\"인 옵션을 선택\n",
    "select_element.select_by_value(\"C_00000001\")"
   ]
  },
  {
   "attachments": {},
   "cell_type": "markdown",
   "metadata": {},
   "source": [
    "- 집합 차수관리"
   ]
  },
  {
   "cell_type": "code",
   "execution_count": null,
   "metadata": {},
   "outputs": [],
   "source": [
    "'''\n",
    "위의 코드를 기반으로 아래의 기능을 추가하여 발전시켜 줘\n",
    "\n",
    "#10. https://lp.posco.co.kr/S22/S22A10/admin/course/courseCs.do 에 접속하고 창을 최대화\n",
    "'''"
   ]
  },
  {
   "cell_type": "code",
   "execution_count": null,
   "metadata": {},
   "outputs": [],
   "source": [
    "# https://lp.posco.co.kr/S22/S22A10/admin/course/courseCs.do 에 접속하고 창을 최대화\n",
    "driver.get(\"https://lp.posco.co.kr/S22/S22A10/admin/course/courseCs.do\")\n",
    "driver.maximize_window()"
   ]
  },
  {
   "attachments": {},
   "cell_type": "markdown",
   "metadata": {},
   "source": [
    "- 차수 리스트 추출"
   ]
  },
  {
   "cell_type": "code",
   "execution_count": null,
   "metadata": {},
   "outputs": [],
   "source": [
    "'''\n",
    "아래의 코드를 기억해줘. 그리고 이 코드를 기반으로 기능을 계속 발전시켜 나갈거야\n",
    "\n",
    "#11. 패키지 불러오기 \n",
    "from bs4 import BeautifulSoup as bs\n",
    "\n",
    "\n",
    "내가 제공한 코드를 기반으로 아래의 기능을 추가하여 발전시켜 줘\n",
    "\n",
    "#12. bs로 페이지 소스를 추출하고 파싱하고 화면에 출력해 줘\n",
    "'''"
   ]
  },
  {
   "cell_type": "code",
   "execution_count": null,
   "metadata": {},
   "outputs": [],
   "source": [
    "from bs4 import BeautifulSoup as bs\n",
    "\n",
    "# 페이지의 소스를 BeautifulSoup로 추출하여 파싱하고 화면에 출력\n",
    "page_source = driver.page_source\n",
    "soup = bs(page_source, 'html.parser')\n",
    "print(soup.prettify())"
   ]
  },
  {
   "cell_type": "code",
   "execution_count": null,
   "metadata": {},
   "outputs": [],
   "source": [
    "'''\n",
    "위의 코드를 기반으로 아래의 기능을 추가하여 발전시켜 줘\n",
    "\n",
    "#13. soup에서 select 함수로 id가 grid 인 요소를 선택\n",
    "'''"
   ]
  },
  {
   "cell_type": "code",
   "execution_count": null,
   "metadata": {},
   "outputs": [],
   "source": [
    "# bs로 페이지 소스를 추출하고 파싱하고 화면에 출력해 줘\n",
    "soup = bs(driver.page_source, 'html.parser')\n",
    "\n",
    "# soup에서 select로 id가 grid 인 요소를 선택\n",
    "grid_element = soup.select(\"#grid\")\n",
    "print(grid_element)\n"
   ]
  },
  {
   "cell_type": "code",
   "execution_count": null,
   "metadata": {},
   "outputs": [],
   "source": [
    "'''\n",
    "위의 코드를 기반으로 아래의 기능을 추가하여 발전시켜 줘\n",
    "\n",
    "#14. grid_element 를 pandas로 읽고 엑셀로 출력\n",
    "'''"
   ]
  },
  {
   "cell_type": "code",
   "execution_count": null,
   "metadata": {},
   "outputs": [],
   "source": [
    "import pandas as pd\n",
    "\n",
    "# grid_element를 pandas로 읽고 엑셀로 출력\n",
    "df = pd.read_html(str(grid_element))[0]\n",
    "df.to_excel(\"output.xlsx\", index=False)"
   ]
  }
 ],
 "metadata": {
  "kernelspec": {
   "display_name": "Python 3.8.10 64-bit",
   "language": "python",
   "name": "python3"
  },
  "language_info": {
   "codemirror_mode": {
    "name": "ipython",
    "version": 3
   },
   "file_extension": ".py",
   "mimetype": "text/x-python",
   "name": "python",
   "nbconvert_exporter": "python",
   "pygments_lexer": "ipython3",
   "version": "3.9.10"
  },
  "orig_nbformat": 4,
  "vscode": {
   "interpreter": {
    "hash": "e2782e0ab7cab974e8fb2dfc8cec048a29dc3b50e54743df0c4a34ac41b2be7e"
   }
  }
 },
 "nbformat": 4,
 "nbformat_minor": 2
}
