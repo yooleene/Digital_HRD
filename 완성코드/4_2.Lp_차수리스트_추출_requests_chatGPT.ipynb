{
 "cells": [
  {
   "cell_type": "markdown",
   "metadata": {},
   "source": [
    "- LP 로그인 - 초기 페이지 접속 및 로그인"
   ]
  },
  {
   "cell_type": "code",
   "execution_count": null,
   "metadata": {},
   "outputs": [],
   "source": [
    "'''\n",
    "아래의 코드를 기억해줘. 그리고 이 코드를 기반으로 기능을 계속 발전시켜 나갈거야\n",
    "\n",
    "#1. 패키지 불러오기\n",
    "import requests\n",
    "import pandas as pd\n",
    "\n",
    "\n",
    "내가 제공한 코드를 기반으로 아래의 기능을 추가하여 발전시켜 줘\n",
    "#2. https://lp.posco.co.kr/S22/S22A10/member/login/ajax/login.do 접속 \n",
    "\n",
    "\n",
    "위의 코드를 기반으로 아래의 기능을 추가하여 발전시켜줘\n",
    "\n",
    "#3. 파리미터로\n",
    "    - email은 user_mail@poscohrd.com\n",
    "    - password는 getpass로 입력을 받아 줘\n",
    "    - headers는 'User-Agent':'Mozilla/5.0 (Windows NT 10.0; Win64; x64) AppleWebKit/537.36 (KHTML, like Gecko) Chrome/96.0.4664.110 Safari/537.36 Edg/96.0.1054.62'\n",
    "#4. session을 생성\n",
    "#5. 세션을 통해 로그인하되 verify=False 로 설정\n",
    "'''"
   ]
  },
  {
   "cell_type": "code",
   "execution_count": null,
   "metadata": {},
   "outputs": [],
   "source": [
    "#1. 패키지 불러오기\n",
    "import requests\n",
    "import pandas as pd\n",
    "from getpass import getpass\n",
    "\n",
    "#3. 파리미터 설정\n",
    "email = 'user_mail@poscohrd.com'\n",
    "password = getpass(\"Enter your password: \")\n",
    "headers = {\n",
    "    'User-Agent': 'Mozilla/5.0 (Windows NT 10.0; Win64; x64) AppleWebKit/537.36 (KHTML, like Gecko) Chrome/96.0.4664.110 Safari/537.36 Edg/96.0.1054.62'\n",
    "}\n",
    "\n",
    "#4. 세션 생성\n",
    "session = requests.Session()\n",
    "\n",
    "#5. 로그인 시도\n",
    "login_data = {\n",
    "    'email': email,\n",
    "    'password': password\n",
    "}\n",
    "\n",
    "response = session.post('https://lp.posco.co.kr/S22/S22A10/member/login/ajax/login.do', data=login_data, headers=headers, verify=False)\n",
    "\n",
    "# 여기서부터는 응답을 확인하고 원하는 작업을 수행하는 코드를 추가해주면 됩니다."
   ]
  },
  {
   "cell_type": "markdown",
   "metadata": {},
   "source": [
    "- 차수 리스트 페이지 접속"
   ]
  },
  {
   "cell_type": "code",
   "execution_count": null,
   "metadata": {},
   "outputs": [],
   "source": [
    "'''\n",
    "내가 제공한 코드를 기반으로 아래의 기능을 추가하여 발전시켜 줘\n",
    "\n",
    "#6. https://lp.posco.co.kr/S22/S22A10/admin/course/ajax/courseCsPageList.do 접속\n",
    "#7. 마리미터는 아래와 같아\n",
    "    start:0, length:500, keywordType:C, eduMngtDeptName:'디지털교육그룹, eduPeriodFlag:C, \"searchStartDt\":20240101, searchEndDt:20240331, keyword:뉴칼라\n",
    "\n",
    "위의 코드를 기반으로 아래의 기능을 추가하여 발전시켜줘\n",
    "\n",
    "#8. 위의 url과 파라미터로 접속하되 post 형식으로 하고, verify=False 로 설정, headers도 동일하게 설정\n",
    "'''"
   ]
  },
  {
   "cell_type": "code",
   "execution_count": null,
   "metadata": {},
   "outputs": [],
   "source": [
    "#1. 패키지 불러오기\n",
    "import requests\n",
    "import pandas as pd\n",
    "from getpass import getpass\n",
    "\n",
    "#3. 파리미터 설정\n",
    "email = 'yooleenes@poscohrd.com'\n",
    "password = getpass(\"Enter your password: \")\n",
    "headers = {\n",
    "    'User-Agent': 'Mozilla/5.0 (Windows NT 10.0; Win64; x64) AppleWebKit/537.36 (KHTML, like Gecko) Chrome/96.0.4664.110 Safari/537.36 Edg/96.0.1054.62'\n",
    "}\n",
    "\n",
    "#4. 세션 생성\n",
    "session = requests.Session()\n",
    "\n",
    "#5. 로그인 시도\n",
    "login_data = {\n",
    "    'email': email,\n",
    "    'password': password\n",
    "}\n",
    "\n",
    "response = session.post('https://lp.posco.co.kr/S22/S22A10/member/login/ajax/login.do', data=login_data, headers=headers, verify=False)\n",
    "\n",
    "#6. 코스 페이지 리스트 요청\n",
    "params = {\n",
    "    'start': 0,\n",
    "    'length': 500,\n",
    "    'keywordType': 'C',\n",
    "    'eduMngtDeptName': '디지털교육그룹',\n",
    "    'eduPeriodFlag': 'C',\n",
    "    'searchStartDt': 20240101,\n",
    "    'searchEndDt': 20240331,\n",
    "    'keyword': '뉴칼라'\n",
    "}\n",
    "\n",
    "response = session.post('https://lp.posco.co.kr/S22/S22A10/admin/course/ajax/courseCsPageList.do', data=params, headers=headers, verify=False)\n",
    "\n",
    "# 여기서부터는 응답을 확인하고 원하는 작업을 수행하는 코드를 추가해주면 됩니다."
   ]
  },
  {
   "cell_type": "markdown",
   "metadata": {},
   "source": [
    "- 차수 데이터 추출"
   ]
  },
  {
   "cell_type": "code",
   "execution_count": null,
   "metadata": {},
   "outputs": [],
   "source": [
    "'''\n",
    "위의 코드를 기반으로 아래의 기능을 추가하여 발전시켜줘\n",
    "\n",
    "#9. 페이지에 로딩 된 json 데이터 추출 후 화면에 출력\n",
    "'''"
   ]
  },
  {
   "cell_type": "code",
   "execution_count": null,
   "metadata": {},
   "outputs": [],
   "source": [
    "#1. 패키지 불러오기\n",
    "import requests\n",
    "import pandas as pd\n",
    "from getpass import getpass\n",
    "\n",
    "#3. 파리미터 설정\n",
    "email = 'yooleenes@poscohrd.com'\n",
    "password = getpass(\"Enter your password: \")\n",
    "headers = {\n",
    "    'User-Agent': 'Mozilla/5.0 (Windows NT 10.0; Win64; x64) AppleWebKit/537.36 (KHTML, like Gecko) Chrome/96.0.4664.110 Safari/537.36 Edg/96.0.1054.62'\n",
    "}\n",
    "\n",
    "#4. 세션 생성\n",
    "session = requests.Session()\n",
    "\n",
    "#5. 로그인 시도\n",
    "login_data = {\n",
    "    'email': email,\n",
    "    'password': password\n",
    "}\n",
    "\n",
    "response = session.post('https://lp.posco.co.kr/S22/S22A10/member/login/ajax/login.do', data=login_data, headers=headers, verify=False)\n",
    "\n",
    "#6. 코스 페이지 리스트 요청\n",
    "params = {\n",
    "    'start': 0,\n",
    "    'length': 500,\n",
    "    'keywordType': 'C',\n",
    "    'eduMngtDeptName': '디지털교육그룹',\n",
    "    'eduPeriodFlag': 'C',\n",
    "    'searchStartDt': 20240101,\n",
    "    'searchEndDt': 20240331,\n",
    "    'keyword': '뉴칼라'\n",
    "}\n",
    "\n",
    "response = session.post('https://lp.posco.co.kr/S22/S22A10/admin/course/ajax/courseCsPageList.do', data=params, headers=headers, verify=False)\n",
    "\n",
    "#9. 페이지에 로딩된 json 데이터 추출 후 화면에 출력\n",
    "json_data = response.json()\n",
    "print(json_data)"
   ]
  },
  {
   "cell_type": "code",
   "execution_count": null,
   "metadata": {},
   "outputs": [],
   "source": [
    "'''\n",
    "위의 코드를 기반으로 아래의 기능을 추가하여 발전시켜줘\n",
    "\n",
    "#10. json_data 에서 courseCsName과 eduAreaName 를 추출해서 pandas의 dataframe으로 만들어 줘\n",
    "'''"
   ]
  },
  {
   "cell_type": "code",
   "execution_count": null,
   "metadata": {},
   "outputs": [],
   "source": [
    "#10. courseCsName과 eduAreaName 추출하여 pandas의 DataFrame으로 만들기\n",
    "data_list = []\n",
    "for item in json_data['data']:\n",
    "    course_cs_name = item['courseCsName']\n",
    "    edu_area_name = item['eduAreaName']\n",
    "    data_list.append({'Course Name': course_cs_name, 'Education Area': edu_area_name})\n",
    "\n",
    "df_extracted = pd.DataFrame(data_list)\n",
    "print(df_extracted)"
   ]
  }
 ],
 "metadata": {
  "kernelspec": {
   "display_name": "Python 3.8.10 64-bit",
   "language": "python",
   "name": "python3"
  },
  "language_info": {
   "codemirror_mode": {
    "name": "ipython",
    "version": 3
   },
   "file_extension": ".py",
   "mimetype": "text/x-python",
   "name": "python",
   "nbconvert_exporter": "python",
   "pygments_lexer": "ipython3",
   "version": "3.9.10"
  },
  "orig_nbformat": 4,
  "vscode": {
   "interpreter": {
    "hash": "e2782e0ab7cab974e8fb2dfc8cec048a29dc3b50e54743df0c4a34ac41b2be7e"
   }
  }
 },
 "nbformat": 4,
 "nbformat_minor": 2
}
