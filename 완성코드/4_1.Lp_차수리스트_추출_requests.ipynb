{
 "cells": [
  {
   "cell_type": "markdown",
   "metadata": {},
   "source": [
    "- LP 로그인 - 초기 페이지 접속 및 로그인"
   ]
  },
  {
   "cell_type": "code",
   "execution_count": null,
   "metadata": {},
   "outputs": [],
   "source": [
    "#1. 패키지 불러오기\n",
    "import requests\n",
    "import pandas as pd\n",
    "from getpass import getpass\n",
    "\n",
    "#3. 파리미터 설정\n",
    "email = 'user_mail@poscohrd.com'\n",
    "password = getpass(\"Enter your password: \")\n",
    "headers = {\n",
    "    'User-Agent': 'Mozilla/5.0 (Windows NT 10.0; Win64; x64) AppleWebKit/537.36 (KHTML, like Gecko) Chrome/96.0.4664.110 Safari/537.36 Edg/96.0.1054.62'\n",
    "}\n",
    "\n",
    "#4. 세션 생성\n",
    "session = requests.Session()\n",
    "\n",
    "#5. 로그인 시도\n",
    "login_data = {\n",
    "    'email': email,\n",
    "    'password': password\n",
    "}\n",
    "\n",
    "response = session.post('https://lp.posco.co.kr/S22/S22A10/member/login/ajax/login.do', data=login_data, headers=headers, verify=False)"
   ]
  },
  {
   "cell_type": "markdown",
   "metadata": {},
   "source": [
    "- 차수 리스트 페이지 접속"
   ]
  },
  {
   "cell_type": "code",
   "execution_count": null,
   "metadata": {},
   "outputs": [],
   "source": [
    "#6. 차수 리스트 페이지 요청\n",
    "params = {\n",
    "    'start': 0,\n",
    "    'length': 500,\n",
    "    'keywordType': 'C',\n",
    "    'eduMngtDeptName': '디지털교육그룹',\n",
    "    'eduPeriodFlag': 'C',\n",
    "    'searchStartDt': 20240101,\n",
    "    'searchEndDt': 20240331,\n",
    "    'keyword': '뉴칼라'\n",
    "}\n",
    "\n",
    "response = session.post('https://lp.posco.co.kr/S22/S22A10/admin/course/ajax/courseCsPageList.do', data=params, headers=headers, verify=False)\n"
   ]
  },
  {
   "cell_type": "markdown",
   "metadata": {},
   "source": [
    "- 차수 데이터 추출"
   ]
  },
  {
   "cell_type": "code",
   "execution_count": null,
   "metadata": {},
   "outputs": [],
   "source": [
    "#9. 페이지에 로딩된 json 데이터 추출 후 화면에 출력\n",
    "json_data = response.json()\n",
    "print(json_data)"
   ]
  },
  {
   "cell_type": "code",
   "execution_count": null,
   "metadata": {},
   "outputs": [],
   "source": [
    "#10. courseCsName과 eduAreaName 추출하여 pandas의 DataFrame으로 만들기\n",
    "data_list = []\n",
    "for item in json_data['data']:\n",
    "    course_cs_name = item['courseCsName']\n",
    "    edu_area_name = item['eduAreaName']\n",
    "    data_list.append({'Course Name': course_cs_name, 'Education Area': edu_area_name})\n",
    "\n",
    "df_extracted = pd.DataFrame(data_list)\n",
    "df_extracted"
   ]
  }
 ],
 "metadata": {
  "kernelspec": {
   "display_name": "Python 3.8.10 64-bit",
   "language": "python",
   "name": "python3"
  },
  "language_info": {
   "codemirror_mode": {
    "name": "ipython",
    "version": 3
   },
   "file_extension": ".py",
   "mimetype": "text/x-python",
   "name": "python",
   "nbconvert_exporter": "python",
   "pygments_lexer": "ipython3",
   "version": "3.9.10"
  },
  "orig_nbformat": 4,
  "vscode": {
   "interpreter": {
    "hash": "e2782e0ab7cab974e8fb2dfc8cec048a29dc3b50e54743df0c4a34ac41b2be7e"
   }
  }
 },
 "nbformat": 4,
 "nbformat_minor": 2
}
