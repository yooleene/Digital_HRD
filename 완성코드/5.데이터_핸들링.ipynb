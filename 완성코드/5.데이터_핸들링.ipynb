{
 "cells": [
  {
   "cell_type": "markdown",
   "metadata": {},
   "source": [
    "### 엑셀에서 데이터 다루기"
   ]
  },
  {
   "cell_type": "code",
   "execution_count": null,
   "metadata": {},
   "outputs": [],
   "source": [
    "import win32com.client"
   ]
  },
  {
   "cell_type": "markdown",
   "metadata": {},
   "source": [
    "- 엑셀 프로그램 실행"
   ]
  },
  {
   "cell_type": "code",
   "execution_count": null,
   "metadata": {},
   "outputs": [],
   "source": [
    "excel = win32com.client.Dispatch('Excel.Application')\n",
    "excel.Visible = True"
   ]
  },
  {
   "cell_type": "markdown",
   "metadata": {},
   "source": [
    "- 워크북/시트 불러오기"
   ]
  },
  {
   "cell_type": "code",
   "execution_count": null,
   "metadata": {},
   "outputs": [],
   "source": [
    "wb = excel.Workbooks.Open('D:/작업방/rpa_hrd/sample.xlsx')\n",
    "ws = wb.Worksheets('sheet1')"
   ]
  },
  {
   "cell_type": "markdown",
   "metadata": {},
   "source": [
    "- 데이터 행 개수 세기"
   ]
  },
  {
   "cell_type": "code",
   "execution_count": null,
   "metadata": {},
   "outputs": [],
   "source": [
    "max_row = ws.UsedRange.Rows.Count\n",
    "max_col = ws.UsedRange.Columns.Count\n",
    "\n",
    "print(max_row)\n",
    "print(max_col)"
   ]
  },
  {
   "cell_type": "markdown",
   "metadata": {},
   "source": [
    "- 합계 제목"
   ]
  },
  {
   "cell_type": "code",
   "execution_count": null,
   "metadata": {},
   "outputs": [],
   "source": [
    "ws.Cells(max_row+1,1).Value = '합계'"
   ]
  },
  {
   "cell_type": "markdown",
   "metadata": {},
   "source": [
    "- 합계 계산"
   ]
  },
  {
   "cell_type": "code",
   "execution_count": null,
   "metadata": {},
   "outputs": [],
   "source": [
    "import string #알파벳 사용시 필요\n",
    "\n",
    "abc = string.ascii_lowercase #영어 소문자를 알파벳 순서대로 출력(0=A, 1=B)\n",
    "\n",
    "#분기별 합계 계산\n",
    "for col in range(2,6):\n",
    "      ws.Cells(max_row+1,col).Formula = '=sum({}2:{}{})'.format(abc[col-1], abc[col-1], max_row)"
   ]
  },
  {
   "cell_type": "markdown",
   "metadata": {},
   "source": [
    "### 판다스에서 데이터 다루기"
   ]
  },
  {
   "cell_type": "code",
   "execution_count": null,
   "id": "7fcbeeaf",
   "metadata": {},
   "outputs": [],
   "source": [
    "import win32com.client\n",
    "import pandas as pd\n",
    "\n",
    "#엑셀 열기\n",
    "excel = win32com.client.Dispatch('Excel.Application')\n",
    "excel.Visible = True\n",
    "wb = excel.Workbooks.Open('D:/작업방/rpa_hrd/sample.xlsx')\n",
    "ws = wb.Worksheets('sheet1')"
   ]
  },
  {
   "cell_type": "markdown",
   "metadata": {},
   "source": [
    "- 데이터 행 개수 세기"
   ]
  },
  {
   "cell_type": "code",
   "execution_count": null,
   "metadata": {},
   "outputs": [],
   "source": [
    "max_row = ws.UsedRange.Rows.Count\n",
    "max_col = ws.UsedRange.Columns.Count\n",
    "\n",
    "print(max_row)\n",
    "print(max_col)"
   ]
  },
  {
   "cell_type": "markdown",
   "metadata": {},
   "source": [
    "- 엑셀을 판다스로 가져오기"
   ]
  },
  {
   "cell_type": "code",
   "execution_count": null,
   "metadata": {},
   "outputs": [],
   "source": [
    "sel_range = ws.Range(ws.Cells(1,1), ws.Cells(max_row, max_col))\n",
    "sel_range.Copy()\n",
    "\n",
    "excel_data = pd.DataFrame(sel_range.Value)\n",
    "excel_data\n"
   ]
  },
  {
   "cell_type": "markdown",
   "metadata": {},
   "source": [
    "- 엑셀로 내보내기"
   ]
  },
  {
   "cell_type": "code",
   "execution_count": null,
   "id": "09ca36ff",
   "metadata": {},
   "outputs": [],
   "source": [
    "excel_data.to_excel('D:/작업방/python_rpa_a/sample3.xlsx')"
   ]
  },
  {
   "cell_type": "markdown",
   "metadata": {},
   "source": [
    "- 헤더를 첫행으로 지정"
   ]
  },
  {
   "cell_type": "code",
   "execution_count": null,
   "metadata": {},
   "outputs": [],
   "source": [
    "new_header = excel_data.iloc[0]\n",
    "excel_data = excel_data[1:]\n",
    "excel_data.columns = new_header\n",
    "excel_data"
   ]
  },
  {
   "cell_type": "markdown",
   "metadata": {},
   "source": [
    "- 필터링 + 정렬 -> 엑셀로 출력\n",
    "- 1분기 >= 0.5 and 4분기 >= 0.8 , 오름차순 정렬(1,4분기)"
   ]
  },
  {
   "cell_type": "code",
   "execution_count": null,
   "metadata": {},
   "outputs": [],
   "source": [
    "df_1 = excel_data.loc[(excel_data['1분기'] >= 0.5) & (excel_data['4분기'] >= 0.3)]\n",
    "df_2 = df_1.sort_values(by=['1분기','4분기'], ascending=True)\n",
    "df_2"
   ]
  },
  {
   "cell_type": "code",
   "execution_count": null,
   "metadata": {},
   "outputs": [],
   "source": [
    "df_2.to_excel('D:/작업방/python_rpa_a/sample4.xlsx', index=False)"
   ]
  },
  {
   "cell_type": "markdown",
   "metadata": {},
   "source": [
    "_____\n",
    "[참고]"
   ]
  },
  {
   "cell_type": "markdown",
   "metadata": {},
   "source": [
    "- 기본 통계"
   ]
  },
  {
   "cell_type": "code",
   "execution_count": null,
   "id": "1f937441",
   "metadata": {},
   "outputs": [],
   "source": [
    "excel_data.describe()"
   ]
  },
  {
   "cell_type": "markdown",
   "id": "2a45268a",
   "metadata": {},
   "source": [
    "- 데이터 선택(열)"
   ]
  },
  {
   "cell_type": "code",
   "execution_count": null,
   "id": "8eb3439a",
   "metadata": {},
   "outputs": [],
   "source": [
    "excel_data['1분기']"
   ]
  },
  {
   "cell_type": "code",
   "execution_count": null,
   "id": "3ca39354",
   "metadata": {},
   "outputs": [],
   "source": [
    "excel_data[['1분기','2분기']]"
   ]
  },
  {
   "cell_type": "markdown",
   "id": "c04d9eca",
   "metadata": {},
   "source": [
    "- 데이터 선택(행)"
   ]
  },
  {
   "cell_type": "code",
   "execution_count": null,
   "id": "ab9f52d1",
   "metadata": {},
   "outputs": [],
   "source": [
    "excel_data[0:5]"
   ]
  },
  {
   "cell_type": "code",
   "execution_count": null,
   "id": "0da5b237",
   "metadata": {},
   "outputs": [],
   "source": [
    "excel_data.loc[0:5]"
   ]
  },
  {
   "cell_type": "code",
   "execution_count": null,
   "id": "e7e9f7f4",
   "metadata": {},
   "outputs": [],
   "source": [
    "excel_data.loc[0:5,['1분기','2분기']]"
   ]
  },
  {
   "cell_type": "code",
   "execution_count": null,
   "id": "30a9a4b7",
   "metadata": {},
   "outputs": [],
   "source": [
    "excel_data.loc[:,['1분기','2분기']]"
   ]
  },
  {
   "cell_type": "code",
   "execution_count": null,
   "id": "3cb8c401",
   "metadata": {},
   "outputs": [],
   "source": [
    "excel_data.loc[:]"
   ]
  },
  {
   "cell_type": "code",
   "execution_count": null,
   "id": "f67af188",
   "metadata": {},
   "outputs": [],
   "source": [
    "excel_data.iloc[0:5,[0]]"
   ]
  },
  {
   "cell_type": "code",
   "execution_count": null,
   "id": "fac4037e",
   "metadata": {},
   "outputs": [],
   "source": [
    "excel_data.iloc[0:5,[0,1]]"
   ]
  },
  {
   "cell_type": "code",
   "execution_count": null,
   "id": "56de933d",
   "metadata": {},
   "outputs": [],
   "source": [
    "excel_data.iloc[0:5,0:3]"
   ]
  },
  {
   "cell_type": "code",
   "execution_count": null,
   "id": "465098fb",
   "metadata": {},
   "outputs": [],
   "source": [
    "excel_data.iloc[0:5]"
   ]
  },
  {
   "cell_type": "markdown",
   "metadata": {},
   "source": [
    "- 필터링"
   ]
  },
  {
   "cell_type": "code",
   "execution_count": null,
   "metadata": {},
   "outputs": [],
   "source": [
    "excel_data.loc[(excel_data['1분기'] >= 0.5)]"
   ]
  },
  {
   "cell_type": "code",
   "execution_count": null,
   "metadata": {},
   "outputs": [],
   "source": [
    "excel_data.loc[(excel_data['1분기'] >= 0.5) & (excel_data['4분기'] >= 0.8)] # and"
   ]
  },
  {
   "cell_type": "code",
   "execution_count": null,
   "metadata": {},
   "outputs": [],
   "source": [
    "excel_data.loc[(excel_data['1분기'] >= 0.5) | (excel_data['4분기'] >= 0.8)] # or"
   ]
  },
  {
   "cell_type": "markdown",
   "metadata": {},
   "source": [
    "- 정렬"
   ]
  },
  {
   "cell_type": "code",
   "execution_count": null,
   "metadata": {},
   "outputs": [],
   "source": [
    "excel_data.sort_values(by=['1분기'], ascending=True)"
   ]
  },
  {
   "cell_type": "code",
   "execution_count": null,
   "metadata": {},
   "outputs": [],
   "source": [
    "excel_data.sort_values(by=['1분기','2분기'], ascending=True)"
   ]
  },
  {
   "cell_type": "code",
   "execution_count": null,
   "metadata": {},
   "outputs": [],
   "source": [
    "excel_data['1분기'].sort_values(ascending=False)"
   ]
  },
  {
   "cell_type": "markdown",
   "metadata": {},
   "source": [
    "- 데이터 변경"
   ]
  },
  {
   "cell_type": "code",
   "execution_count": null,
   "metadata": {},
   "outputs": [],
   "source": [
    "excel_data.loc[0:2,'1분기'] = 'AA'\n",
    "excel_data"
   ]
  },
  {
   "cell_type": "code",
   "execution_count": null,
   "metadata": {},
   "outputs": [],
   "source": [
    "excel_data.iloc[2,3] = 100 # 인덱스 2행3열\n",
    "excel_data.iloc[0:2,0:3] = 0 # 인덱스 0~1행 X 0~2열\n",
    "excel_data"
   ]
  },
  {
   "cell_type": "code",
   "execution_count": null,
   "metadata": {},
   "outputs": [],
   "source": [
    "# Index 기반 조건부 \n",
    "excel_data.at[4,'3분기'] = '555'  # 인덱스 4행, '3분기' 컬럼 값을 '555'로 변경\n",
    "excel_data"
   ]
  },
  {
   "cell_type": "code",
   "execution_count": null,
   "metadata": {},
   "outputs": [],
   "source": [
    "# True/False 기반 접근 조건부\n",
    "excel_data[(excel_data['4분기'] >= 0.5)] = 10     # '4분기'컬럼 中 '0.5'보다 쿠고나 같은 데이터를 10으로 일괄변경\n",
    "excel_data"
   ]
  }
 ],
 "metadata": {
  "kernelspec": {
   "display_name": "Python 3.9.10 64-bit",
   "language": "python",
   "name": "python3"
  },
  "language_info": {
   "codemirror_mode": {
    "name": "ipython",
    "version": 3
   },
   "file_extension": ".py",
   "mimetype": "text/x-python",
   "name": "python",
   "nbconvert_exporter": "python",
   "pygments_lexer": "ipython3",
   "version": "3.9.10"
  },
  "orig_nbformat": 4,
  "vscode": {
   "interpreter": {
    "hash": "a86e7cc0d3fd2b3984d90a12bd1fbcf5461ee2e2e08ec83f39bc9fc9adb9109f"
   }
  }
 },
 "nbformat": 4,
 "nbformat_minor": 2
}
