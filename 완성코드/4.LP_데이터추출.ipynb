{
 "cells": [
  {
   "cell_type": "markdown",
   "metadata": {},
   "source": [
    "### 러닝 플랫폼 데이터 추출 사용방법"
   ]
  },
  {
   "cell_type": "markdown",
   "metadata": {},
   "source": [
    "#### 1.패키지 설치 : posco-lp"
   ]
  },
  {
   "cell_type": "markdown",
   "metadata": {},
   "source": [
    "#### 2.사용가능한 기능 : lp.login()으로 관리자 화면 로그인에 성공하면 아래 메소드 사용가능\n",
    "\n",
    "- lp.getCompanyList() → LP에 등록된 그룹사/협력사/해외법인의 정보를 추출해 DataFrame으로 리턴\n",
    "- lp.getUserList() → LP에서 특정 사용자(교육생)를 검색한 결과를 DataFrame으로 리턴\n",
    "- lp.getChaList() → 차수 목록을 DataFrame으로 리턴\n",
    "- lp.getChaDetail() → 과정ID, 차수ID를 입력하면 해당 차수의 상세 정보를 json으로 리턴\n",
    "- lp.getStudentRegisterList() → 과정ID, 차수ID를 입력하면 해당 차수에 등록된 교육생 정보를 DataFrame으로 리턴\n",
    "- lp.getStudentPassedList() → 과정ID, 차수ID를 입력하면 해당 차수의 수료자 정보를 DataFrame으로 리턴\n",
    "- lp.getSurveyMeanScore() → 과정ID, 차수ID를 입력하면 해당 차수의 설문지 개수, 응답자수, 설문별 평균값을 출력\n",
    "- lp.getLectureRoomInfo() → 입력한 날짜(yyyymmdd)에 해당하는 강의실 예약정보를 DataFrame으로 리턴\n",
    "- lp.updateStudentToPassed() → 과정ID, 차수ID를 입력하면 해당 차수의 수료조건에 해당되는 교육생들을 일괄 수료처리\n",
    "- lp.resetUserPassword() → 사용자의 LP관리ID(ex : 986669Y)를 입력하면 해당 사용자의 LP 비밀번호를 초기화"
   ]
  },
  {
   "cell_type": "markdown",
   "metadata": {},
   "source": [
    "#### 3. 사용하기"
   ]
  },
  {
   "cell_type": "markdown",
   "metadata": {},
   "source": [
    "- LP 로그인"
   ]
  },
  {
   "cell_type": "code",
   "execution_count": null,
   "metadata": {},
   "outputs": [],
   "source": [
    "from poscolp import LP\n",
    "import pyautogui as pg\n",
    "\n",
    "lp_id = \"user_id@poscohrd.com\"\n",
    "lp_pw = pg.password(title=\"lp패스워드\", text=\"패스워드 입력하기\")\n",
    " \n",
    "lp = LP(lp_id, lp_pw)\n",
    "lp.login()"
   ]
  },
  {
   "cell_type": "markdown",
   "metadata": {},
   "source": [
    "- 차수 리스트 추출"
   ]
  },
  {
   "cell_type": "code",
   "execution_count": null,
   "metadata": {},
   "outputs": [],
   "source": [
    "lp.getChaList()"
   ]
  },
  {
   "cell_type": "markdown",
   "metadata": {},
   "source": [
    "- 기간별 차수리스트 추출"
   ]
  },
  {
   "cell_type": "code",
   "execution_count": null,
   "metadata": {},
   "outputs": [],
   "source": [
    "lp.getChaList(start_date=\"20220101\", end_date=\"20221231\", simple=True)"
   ]
  },
  {
   "cell_type": "markdown",
   "metadata": {},
   "source": [
    "- 담당자별 차수 리스트 추출"
   ]
  },
  {
   "cell_type": "code",
   "execution_count": null,
   "metadata": {},
   "outputs": [],
   "source": [
    "ChaList = lp.getChaList(start_date=\"20220101\", end_date=\"20221231\", simple=True)"
   ]
  },
  {
   "cell_type": "code",
   "execution_count": null,
   "metadata": {},
   "outputs": [],
   "source": [
    "ChaList[ChaList['담당자'] == '박민경']"
   ]
  },
  {
   "cell_type": "code",
   "execution_count": null,
   "metadata": {},
   "outputs": [],
   "source": [
    "ChaList[(ChaList['담당자'] == '박민경') | (ChaList['담당자'] == '유구봉')]"
   ]
  },
  {
   "cell_type": "markdown",
   "metadata": {},
   "source": [
    "- 엑셀로 내보내기"
   ]
  },
  {
   "cell_type": "code",
   "execution_count": null,
   "metadata": {},
   "outputs": [],
   "source": [
    "ChaList = ChaList[(ChaList['담당자'] == '박민경') | (ChaList['담당자'] == '유구봉')]"
   ]
  },
  {
   "cell_type": "code",
   "execution_count": null,
   "metadata": {},
   "outputs": [],
   "source": [
    "ChaList.to_excel('ChaList.xlsx', index=False)"
   ]
  },
  {
   "cell_type": "markdown",
   "metadata": {},
   "source": [
    "#### 4.응용하기 - 조건(기간/담당자)별 교육생 정보 추출"
   ]
  },
  {
   "cell_type": "markdown",
   "metadata": {},
   "source": [
    "- 기간별 차수 리스트 추출"
   ]
  },
  {
   "cell_type": "code",
   "execution_count": null,
   "metadata": {},
   "outputs": [],
   "source": [
    "ChaList = lp.getChaList(start_date=\"20221001\", end_date=\"20221031\", simple=True)\n",
    "ChaList"
   ]
  },
  {
   "cell_type": "markdown",
   "metadata": {},
   "source": [
    "- 담담자별 차수 리스트 추출"
   ]
  },
  {
   "cell_type": "code",
   "execution_count": null,
   "metadata": {},
   "outputs": [],
   "source": [
    "ChaList2 = ChaList[ChaList['담당자'] == '박민경']\n",
    "ChaList2"
   ]
  },
  {
   "cell_type": "markdown",
   "metadata": {},
   "source": [
    "- 과정ID, 차수ID 추출"
   ]
  },
  {
   "cell_type": "code",
   "execution_count": null,
   "metadata": {},
   "outputs": [],
   "source": [
    "id = ChaList2[['과정ID','차수ID']]\n",
    "id"
   ]
  },
  {
   "cell_type": "code",
   "execution_count": null,
   "metadata": {},
   "outputs": [],
   "source": [
    "id_1 = id.iloc[0,0]\n",
    "id_1"
   ]
  },
  {
   "cell_type": "code",
   "execution_count": null,
   "metadata": {},
   "outputs": [],
   "source": [
    "id_2 = id.iloc[0,1]\n",
    "id_2"
   ]
  },
  {
   "cell_type": "markdown",
   "metadata": {},
   "source": [
    "- ID별 교육생 명단 추출"
   ]
  },
  {
   "cell_type": "code",
   "execution_count": null,
   "metadata": {},
   "outputs": [],
   "source": [
    "lp.getStudentRegisterList(courseId=id_1, chaId=id_2)"
   ]
  },
  {
   "cell_type": "markdown",
   "metadata": {},
   "source": [
    "- 조건별 교육생 명단 추출"
   ]
  },
  {
   "cell_type": "code",
   "execution_count": null,
   "metadata": {},
   "outputs": [],
   "source": [
    "import pandas as pd\n",
    "\n",
    "student_list = pd.DataFrame()\n",
    "for idx in range(len(id)):\n",
    "      id_1 = id.iloc[idx,0]\n",
    "      id_2 = id.iloc[idx,1]\n",
    "      student_list = student_list.append(lp.getStudentRegisterList(courseId=id_1, chaId=id_2))"
   ]
  },
  {
   "cell_type": "code",
   "execution_count": null,
   "metadata": {},
   "outputs": [],
   "source": [
    "student_list"
   ]
  },
  {
   "cell_type": "markdown",
   "metadata": {},
   "source": [
    "- 수강취소 제거"
   ]
  },
  {
   "cell_type": "code",
   "execution_count": null,
   "metadata": {},
   "outputs": [],
   "source": [
    "student_list2 = student_list[student_list['상태'] != '수강취소']\n",
    "student_list2"
   ]
  },
  {
   "cell_type": "code",
   "execution_count": null,
   "metadata": {},
   "outputs": [],
   "source": [
    "student_list2.to_excel('sample.xlsx', index=False)"
   ]
  },
  {
   "cell_type": "markdown",
   "metadata": {},
   "source": [
    "- 코드 종합"
   ]
  },
  {
   "cell_type": "code",
   "execution_count": null,
   "metadata": {},
   "outputs": [],
   "source": [
    "import pandas as pd\n",
    "\n",
    "ChaList = lp.getChaList(start_date=\"20221001\", end_date=\"20221031\", simple=True)\n",
    "ChaList2 = ChaList[ChaList['담당자'] == '박민경']\n",
    "id = ChaList2[['과정ID','차수ID']]\n",
    "\n",
    "student_list = pd.DataFrame()\n",
    "for idx in range(len(id)):\n",
    "      id_1 = id.iloc[idx,0]\n",
    "      id_2 = id.iloc[idx,1]\n",
    "      student_list = student_list.append(lp.getStudentRegisterList(courseId=id_1, chaId=id_2))\n",
    "\n",
    "student_list2 = student_list[student_list['상태'] != '수강취소']\n",
    "student_list2"
   ]
  }
 ],
 "metadata": {
  "kernelspec": {
   "display_name": "Python 3.8.10 64-bit",
   "language": "python",
   "name": "python3"
  },
  "language_info": {
   "codemirror_mode": {
    "name": "ipython",
    "version": 3
   },
   "file_extension": ".py",
   "mimetype": "text/x-python",
   "name": "python",
   "nbconvert_exporter": "python",
   "pygments_lexer": "ipython3",
   "version": "3.8.10"
  },
  "orig_nbformat": 4,
  "vscode": {
   "interpreter": {
    "hash": "e2782e0ab7cab974e8fb2dfc8cec048a29dc3b50e54743df0c4a34ac41b2be7e"
   }
  }
 },
 "nbformat": 4,
 "nbformat_minor": 2
}
