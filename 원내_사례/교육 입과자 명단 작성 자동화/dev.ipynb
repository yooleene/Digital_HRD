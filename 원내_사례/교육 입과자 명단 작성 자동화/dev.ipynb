{
 "cells": [
  {
   "cell_type": "code",
   "execution_count": null,
   "metadata": {},
   "outputs": [],
   "source": [
    "import pandas as pd\n",
    "import win32com.client\n",
    "from datetime import datetime"
   ]
  },
  {
   "cell_type": "markdown",
   "metadata": {},
   "source": [
    "원본 엑셀 파일을 오픈한 후 '종합' 시트에서 영역을 선택, 클립보드로 복사한 후 실행해 주세요."
   ]
  },
  {
   "cell_type": "markdown",
   "metadata": {},
   "source": [
    "1. 종합 시트 내용을 불러와 df로 변환하고, 통계를 계산해 변수에 저장한다."
   ]
  },
  {
   "cell_type": "code",
   "execution_count": null,
   "metadata": {},
   "outputs": [],
   "source": [
    "df = pd.read_clipboard()\n",
    "\n",
    "#성별 인원수 뽑아오기\n",
    "df_gr = df.groupby(\"성별\")\n",
    "gender_cnt = df_gr.count()\n",
    "male_cnt = gender_cnt.loc[\"남\", \"성명\"]\n",
    "female_cnt = gender_cnt.loc[\"여\", \"성명\"]\n",
    "# male_cnt, female_cnt\n",
    "\n",
    "#평균연령, 최소연령, 최대연령 뽑아오기\n",
    "df_mean = df.mean()\n",
    "age_mean = df_mean[\"연령\"]\n",
    "age_mean = round(age_mean, 1)\n",
    "df_min = df.min()\n",
    "age_min = df_min[\"연령\"]\n",
    "age_max = df.max()[\"연령\"]\n",
    "\n",
    "#회사 개수, 교육생 인원 뽑아오기\n",
    "# df[\"회사명\"] = df[\"회사명\"].str.strip()\n",
    "df[\"회사명\"] = df[\"회사명\"].str.replace(\" \", \"\")\n",
    "df[\"회사명\"] = df[\"회사명\"].str.replace(\"\\xa0\", \"\") #추가된 코드\n",
    "company_list = df[\"회사명\"].unique()\n",
    "company_cnt = len(company_list)\n",
    "student_cnt = df.count()[\"성명\"]\n",
    "\n",
    "#통계 내용을 문자열로 만들어 변수에 저장\n",
    "stats_str = \"· 성비 : 남 {}, 여 {} / 평균 연령 : {}세({}-{}세) / {}개社 {}명 입과\".format(\n",
    "    male_cnt, female_cnt, age_mean, age_min, age_max, company_cnt, student_cnt\n",
    ")"
   ]
  },
  {
   "cell_type": "markdown",
   "metadata": {},
   "source": [
    "2. 회사별 교육생 수를 파악하고 건제순으로 문자열로 만들어 변수에 저장한다."
   ]
  },
  {
   "cell_type": "code",
   "execution_count": null,
   "metadata": {},
   "outputs": [],
   "source": [
    "df_gr_company = df.groupby(\"회사명\")\n",
    "df_gr_company.count()[\"성명\"]\n",
    "cnt_by_company = df_gr_company.count()[\"성명\"].to_dict()\n",
    "\n",
    "#아래는 추가된 코드\n",
    "company_list_by_order = pd.read_excel(\"회사목록(건제순).xlsx\")\n",
    "com_order = {}\n",
    "cnt = 0\n",
    "for item in company_list_by_order[\"국내그룹사\"]:\n",
    "    cnt += 1\n",
    "    com_order[item] = cnt\n",
    "company_list_ordered = pd.DataFrame({\"회사명\" : company_list})\n",
    "company_list_ordered[\"순서\"] = company_list_ordered[\"회사명\"].map(com_order)\n",
    "company_list_ordered[\"교육생수\"] = company_list_ordered[\"회사명\"].map(cnt_by_company)\n",
    "company_list_ordered.sort_values(by=\"순서\", inplace=True, ascending=True)\n",
    "\n",
    "cnt_by_company_str = \"\"\n",
    "for item in company_list_ordered.iterrows():\n",
    "    cnt_by_company_str = cnt_by_company_str + \"{} {}명, \".format(item[1][\"회사명\"], item[1][\"교육생수\"])\n",
    "cnt_by_company_str = cnt_by_company_str[:-2]"
   ]
  },
  {
   "cell_type": "markdown",
   "metadata": {},
   "source": [
    "3. 회사 건제순으로 정렬된 교육생 명단을 만든다."
   ]
  },
  {
   "cell_type": "code",
   "execution_count": null,
   "metadata": {},
   "outputs": [],
   "source": [
    "df[\"구분\"] = 0\n",
    "df_result = df[[\"구분\", \"성명\", \"조 편성\", \"회사명\", \"연령\", \"성별\", \"휴대전화번호\"]]\n",
    "df_result.rename(columns={\n",
    "    \"성명\" : \"이름\",\n",
    "    \"조 편성\" : \"조\",\n",
    "    \"회사명\" : \"회사\",\n",
    "    \"휴대전화번호\" : \"휴대폰\"\n",
    "}, inplace=True)\n",
    "df_result[\"건제순\"] = 0\n",
    "df_result[\"건제순\"] = df_result[\"회사\"].map(com_order)\n",
    "df_result.sort_values(by=[\"건제순\", \"이름\"], inplace=True)\n",
    "gubun_list = []\n",
    "for i in range(1, len(df_result)+1):\n",
    "    gubun_list.append(i)\n",
    "df_result[\"구분\"] = gubun_list"
   ]
  },
  {
   "cell_type": "markdown",
   "metadata": {},
   "source": [
    "4. 엑셀 파일에 반영하고 '교육생 명단(결과).xlsx' 파일로 저장한다."
   ]
  },
  {
   "cell_type": "code",
   "execution_count": null,
   "metadata": {},
   "outputs": [],
   "source": [
    "excel = win32com.client.Dispatch(\"Excel.Application\")\n",
    "excel.Workbooks.Open(\"교육생 명단(양식).xlsx\")\n",
    "sheet = excel.ActiveSheet\n",
    "sheet.Cells(2, 2).Value = stats_str\n",
    "sheet.Cells(3, 2).Value = cnt_by_company_str\n",
    "start_row_no = 5\n",
    "for item in df_result.iterrows():\n",
    "    sheet.Cells(start_row_no, 2).Value = item[1][\"구분\"]\n",
    "    sheet.Cells(start_row_no, 3).Value = item[1][\"이름\"]\n",
    "    sheet.Cells(start_row_no, 4).Value = item[1][\"조\"]\n",
    "    sheet.Cells(start_row_no, 5).Value = item[1][\"회사\"]\n",
    "    sheet.Cells(start_row_no, 6).Value = item[1][\"연령\"]\n",
    "    sheet.Cells(start_row_no, 7).Value = item[1][\"성별\"]\n",
    "    sheet.Cells(start_row_no, 8).Value = item[1][\"휴대폰\"]\n",
    "    start_row_no = start_row_no + 1\n",
    "now = datetime.now()\n",
    "now_str = datetime.strftime(now, \"%Y%m%d_%H%M%S\")\n",
    "\n",
    "excel.ActiveWorkbook.SaveAs(\"교육생 명단(결과)_{}.xlsx\".format(now_str))"
   ]
  }
 ],
 "metadata": {
  "kernelspec": {
   "display_name": "Python 3.8.10 64-bit",
   "language": "python",
   "name": "python3"
  },
  "language_info": {
   "codemirror_mode": {
    "name": "ipython",
    "version": 3
   },
   "file_extension": ".py",
   "mimetype": "text/x-python",
   "name": "python",
   "nbconvert_exporter": "python",
   "pygments_lexer": "ipython3",
   "version": "3.8.10"
  },
  "orig_nbformat": 4,
  "vscode": {
   "interpreter": {
    "hash": "e2782e0ab7cab974e8fb2dfc8cec048a29dc3b50e54743df0c4a34ac41b2be7e"
   }
  }
 },
 "nbformat": 4,
 "nbformat_minor": 2
}
