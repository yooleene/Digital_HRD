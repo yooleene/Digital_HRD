{
 "cells": [
  {
   "cell_type": "markdown",
   "metadata": {},
   "source": [
    "#### 1.변수 설정"
   ]
  },
  {
   "cell_type": "code",
   "execution_count": null,
   "metadata": {},
   "outputs": [],
   "source": [
    "search_key_excel = '조직역량개발그룹_23-1차 P직군 신입사원 도입교육 시간표(안) 외(운영자)'\n",
    "search_key_ppt = '[23-1]포스코 p직군 신입사원 도입교육 강의의뢰서 모음'\n",
    "\n",
    "save_path = 'D:\\edu_schedule.xlsx'\n",
    "excel_s_name = '23-1차 강사(연락처 외)'\n",
    "\n",
    "mail_sub1 = '신입사원 교육중 '\n",
    "mail_sub2 = ' 강의 리마인드 드립니다.'\n",
    "mail_con = '''안녕하십니까?\n",
    "            \\n23-1차 포스코 P직군 신입사원 교육 강의 지원에 감사드립니다.\n",
    "            \\nP직군신입 담당자 황영미 입니다.\n",
    "            \\n강의 일정 리마인드 및 시험문제 출제안내 드립니다.\n",
    "            \\n •일정 : 2.9(목) 13:30~15:30 (2hr)\n",
    "            \\n•주제 : 포스코 제안활동\n",
    "            \\n•장소 : 인천 송도 포스코 인재창조원 러닝센터  201호(대강당)\n",
    "            \\n•시험문제 출제 : ~ 2.2(목)까지 메일전달 必  *중간평가 3주차(2.9) 진행예정\n",
    "            \\n사지선다 형식으로 2~3 문항 시험문제 출제 요청 (난이도 중상)\n",
    "            \\n늘 도움 주셔서 감사드립니다.\n",
    "            \\n관련하여 문의사항은 언제든 연락주세요\\n\\n'''"
   ]
  },
  {
   "cell_type": "markdown",
   "metadata": {},
   "source": [
    "####  2.패키지 불러오기"
   ]
  },
  {
   "cell_type": "code",
   "execution_count": null,
   "metadata": {},
   "outputs": [],
   "source": [
    "import pyautogui as pg\n",
    "import clipboard as cb\n",
    "from datetime import datetime"
   ]
  },
  {
   "cell_type": "markdown",
   "metadata": {},
   "source": [
    "- *** 작업할 일자 입력 팝업창 ***"
   ]
  },
  {
   "cell_type": "code",
   "execution_count": null,
   "metadata": {},
   "outputs": [],
   "source": [
    "edu_order_name = pg.prompt(title='작업할 일자 입력', text='메일을 보낼 일자를 입력하세요, 예:2023-01-26')"
   ]
  },
  {
   "cell_type": "markdown",
   "metadata": {},
   "source": [
    "#### 3.EP 접속"
   ]
  },
  {
   "cell_type": "markdown",
   "metadata": {},
   "source": [
    "- EP 로그인 정보 입력(ID, PASS)"
   ]
  },
  {
   "cell_type": "code",
   "execution_count": null,
   "metadata": {},
   "outputs": [],
   "source": [
    "my_id = 'yooleenes'\n",
    "my_pw = pg.password(title='EP_PASS', text='패스워드를 입력하세요', default='')"
   ]
  },
  {
   "cell_type": "markdown",
   "metadata": {},
   "source": [
    "- EP 접속"
   ]
  },
  {
   "cell_type": "code",
   "execution_count": null,
   "metadata": {},
   "outputs": [],
   "source": [
    "from selenium import webdriver\n",
    "from selenium.webdriver.common.by import By\n",
    "from selenium.webdriver.common.keys import Keys\n",
    "import clipboard as cb\n",
    "\n",
    "url = 'http://swpsso.posco.net/idms/U61/jsp/login/login.jsp'\n",
    "\n",
    "driver = webdriver.Edge('../msedgedriver')\n",
    "driver.get(url)\n",
    "driver.maximize_window()\n",
    "\n",
    "#로그인\n",
    "driver.find_element(By.XPATH,'//*[@id=\"username\"]').send_keys(my_id)\n",
    "driver.find_element(By.XPATH,'//*[@id=\"password\"]').send_keys(my_pw)\n",
    "driver.find_element(By.XPATH,'//*[@id=\"loginsubmit\"]').click()\n",
    "driver.implicitly_wait(10) #드라이버가 로딩되는데 10초까지 대기, 빨리 로딩되면 다음 코드 진행\n",
    "\n",
    "# 로그인시 발생하는 예외 처리\n",
    "pg.sleep(5)\n",
    "try:  # 기존 로그인 경고창이 열릴 경우 alert accept 처리\n",
    "    alert=driver.switch_to.alert\n",
    "    alert.accept()\n",
    "except:\n",
    "    print(\"기존 로그인 경고창 없음. 계속 진행.\")  # 경고창이 열리지 않을 경우\n",
    "\n",
    "pg.sleep(15) "
   ]
  },
  {
   "cell_type": "markdown",
   "metadata": {},
   "source": [
    "#### 4.ECM 접속"
   ]
  },
  {
   "cell_type": "markdown",
   "metadata": {},
   "source": [
    "- ECM 열기"
   ]
  },
  {
   "cell_type": "code",
   "execution_count": null,
   "metadata": {},
   "outputs": [],
   "source": [
    "driver.switch_to.window(driver.window_handles[-1]) #최근창으로 전환\n",
    "driver.find_element(By.XPATH, '//*[@id=\"4\"]/a[1]/span[1]/img').click()"
   ]
  },
  {
   "cell_type": "markdown",
   "metadata": {},
   "source": [
    "- 일정표(엑셀) 검색"
   ]
  },
  {
   "cell_type": "code",
   "execution_count": null,
   "metadata": {},
   "outputs": [],
   "source": [
    "pg.sleep(3)\n",
    "\n",
    "driver.switch_to.window(driver.window_handles[-1]) #최근창으로 전환\n",
    "driver.find_element(By.XPATH, '//*[@id=\"searchValueT\"]').send_keys(search_key_excel)\n",
    "driver.find_element(By.XPATH, '//*[@id=\"searchValueT\"]').send_keys(Keys.ENTER)\n"
   ]
  },
  {
   "cell_type": "markdown",
   "metadata": {},
   "source": [
    "- 일정표(엑셀) 열기"
   ]
  },
  {
   "cell_type": "code",
   "execution_count": null,
   "metadata": {},
   "outputs": [],
   "source": [
    "pg.sleep(3)\n",
    "\n",
    "win = pg.getWindowsWithTitle('ECM')[0]\n",
    "win.activate()\n",
    "\n",
    "# aa = driver.find_element(By.CSS_SELECTOR, '#contentsList td:nth-child(1) a > img').click()\n",
    "pg.press('tab', presses=32, interval=0.1)\n",
    "pg.press('enter')\n",
    "\n",
    "driver.find_element(By.XPATH, '//*[@id=\"A_CC_VIEW\"]').click()\n",
    "pg.sleep(15)"
   ]
  },
  {
   "cell_type": "markdown",
   "metadata": {},
   "source": [
    "- 엑셀 다른이름으로 저장"
   ]
  },
  {
   "cell_type": "code",
   "execution_count": null,
   "metadata": {},
   "outputs": [],
   "source": [
    "win = pg.getWindowsWithTitle('시간표')[0]\n",
    "# win = pg.getWindowsWithTitle('edu')[0]\n",
    "win.activate()\n",
    "\n",
    "pg.press('f12')\n",
    "pg.write(save_path, interval=0.2)\n",
    "pg.hotkey('enter')\n",
    "pg.sleep(0.5)\n",
    "\n",
    "try:\n",
    "      win_save = pg.locateCenterOnScreen('win_save.PNG')\n",
    "      if win_save != None: pg.press('y')\n",
    "except :\n",
    "      print('다른 이름으로 저장 확인 창 없음, 계속 진행')\n",
    "\n",
    "pg.sleep(2)\n",
    "pg.hotkey('alt','f4')"
   ]
  },
  {
   "cell_type": "markdown",
   "metadata": {},
   "source": [
    "- ppt 검색"
   ]
  },
  {
   "cell_type": "code",
   "execution_count": null,
   "metadata": {},
   "outputs": [],
   "source": [
    "pg.sleep(3)\n",
    "\n",
    "driver.switch_to.window(driver.window_handles[-1]) #최근창으로 전환\n",
    "\n",
    "driver.find_element(By.XPATH, '//*[@id=\"searchValueT\"]').clear()\n",
    "\n",
    "driver.find_element(By.XPATH, '//*[@id=\"searchValueT\"]').send_keys(search_key_ppt)\n",
    "driver.find_element(By.XPATH, '//*[@id=\"searchValueT\"]').send_keys(Keys.ENTER)\n"
   ]
  },
  {
   "cell_type": "markdown",
   "metadata": {},
   "source": [
    "- ppt 열기"
   ]
  },
  {
   "cell_type": "code",
   "execution_count": null,
   "metadata": {},
   "outputs": [],
   "source": [
    "pg.sleep(3)\n",
    "\n",
    "win = pg.getWindowsWithTitle('ECM')[0]\n",
    "win.activate()\n",
    "\n",
    "# aa = driver.find_element(By.CSS_SELECTOR, '#contentsList td:nth-child(1) a > img').click()\n",
    "pg.press('tab', presses=32, interval=0.1)\n",
    "pg.press('enter')\n",
    "\n",
    "driver.find_element(By.XPATH, '//*[@id=\"A_CC_VIEW\"]').click()\n",
    "pg.sleep(10)"
   ]
  },
  {
   "cell_type": "markdown",
   "metadata": {},
   "source": [
    "#### 5.엑셀 일정표 데이터 추출"
   ]
  },
  {
   "cell_type": "markdown",
   "metadata": {},
   "source": [
    "- 엑셀 일정표 열기"
   ]
  },
  {
   "cell_type": "code",
   "execution_count": null,
   "metadata": {},
   "outputs": [],
   "source": [
    "import win32com.client\n",
    "excel = win32com.client.Dispatch('Excel.Application')\n",
    "excel.Visible = True\n",
    "wb = excel.Workbooks.Open(save_path) #정장 한 엑셀\n",
    "ws = wb.Worksheets(excel_s_name)\n",
    "pg.sleep(5)"
   ]
  },
  {
   "cell_type": "markdown",
   "metadata": {},
   "source": [
    "- 행 카운트"
   ]
  },
  {
   "cell_type": "code",
   "execution_count": null,
   "metadata": {},
   "outputs": [],
   "source": [
    "range_used = ws.UsedRange\n",
    "max_row = range_used.Rows.Count\n",
    "\n",
    "print(max_row)"
   ]
  },
  {
   "cell_type": "markdown",
   "metadata": {},
   "source": [
    "- 작업해야 할 과목명 추출"
   ]
  },
  {
   "cell_type": "code",
   "execution_count": null,
   "metadata": {},
   "outputs": [],
   "source": [
    "edu_name = []\n",
    "edu_mail = []\n",
    "\n",
    "start_row = 6\n",
    "\n",
    "for r in range(start_row, max_row+1):\n",
    "      cell_date = ws.Cells(r, 3).Value\n",
    "      try: cell_date = datetime.strftime(cell_date, '%Y-%m-%d')\n",
    "      except: print('일자 없음')\n",
    "      if cell_date == edu_order_name:\n",
    "            edu_name.append(ws.Cells(r, 2).Value) #과목명\n",
    "            edu_mail.append(ws.Cells(r, 12).Value) #강사 메일 주소"
   ]
  },
  {
   "cell_type": "markdown",
   "metadata": {},
   "source": [
    "#### 6.PPT 과목별 슬라이드 복사해서 메일 보내기"
   ]
  },
  {
   "cell_type": "code",
   "execution_count": null,
   "metadata": {},
   "outputs": [],
   "source": [
    "#메일 화면 열기\n",
    "for win in driver.window_handles:\n",
    "      driver.switch_to.window(win)\n",
    "      if driver.title == 'EP(Enterprise Portal)':\n",
    "            driver.find_element(By.XPATH,\"//*[@id='533982']\").click()\n",
    "pg.sleep(3)\n",
    "\n",
    "\n",
    "for i in range(len(edu_name)): #과목명 수 만큼 반복\n",
    "      win = pg.getWindowsWithTitle('강의의뢰서')[0]\n",
    "      win.activate()\n",
    "\n",
    "      cb.copy(edu_name[i])\n",
    "      pg.hotkey('ctrl','f')\n",
    "      pg.hotkey('ctrl','v')\n",
    "      pg.press('enter')\n",
    "      pg.sleep(1)\n",
    "      pg.press('esc', presses=2, interval=0.5) #검색창 닫고, 표 선택\n",
    "\n",
    "      # pg.hotkey('ctrl','a') #표만 선택\n",
    "      pg.hotkey('ctrl','c')\n",
    "      pg.sleep(1)\n",
    "\n",
    "#메일 작성, 발송___________________________________________________________________________\n",
    "      #메일 쓰기 화면 열기\n",
    "      driver.switch_to.window(driver.window_handles[-1]) #최근창으로 전환\n",
    "      driver.find_element(By.XPATH,\"//*[@id='Lnb']/div[1]/a\").click()\n",
    "      \n",
    "      pg.sleep(1)\n",
    "\n",
    "      #메일 쓰기\n",
    "      driver.switch_to.window(driver.window_handles[-1]) #최근창으로 전환\n",
    "      driver.find_element(By.XPATH,'//*[@id=\"token-input-send_to\"]').send_keys(edu_mail[i])\n",
    "      driver.find_element(By.XPATH,'//*[@id=\"token-input-send_to\"]').send_keys(Keys.ENTER)\n",
    "\n",
    "      pg.sleep(1)\n",
    "      mail_sub = mail_sub1 + edu_name[i] + mail_sub2\n",
    "      driver.find_element(By.XPATH,'//*[@id=\"write_send_info\"]/table[2]/tbody/tr[1]/td/input').send_keys(mail_sub)\n",
    "\n",
    "      #iframe으로 프레임 안에 프레임이 있음 : id값으로 프레임전환\n",
    "      driver.switch_to.frame(\"dext_frame_WEC\")\n",
    "      driver.switch_to.frame(\"dext5_design_WEC\")\n",
    "      driver.find_element(By.XPATH,'//*[@id=\"dext_body\"]/p[1]').send_keys(mail_con)\n",
    "\n",
    "      #글꼴 편집\n",
    "      win = pg.getWindowsWithTitle('메일쓰기')[0]\n",
    "      win.activate()\n",
    "\n",
    "      #표 붙이기\n",
    "      pg.sleep(1)\n",
    "      pg.hotkey('ctrl','v')\n",
    "      pg.sleep(1)\n",
    "      pg.press('tab', presses=5, interval=0.5)\n",
    "      pg.write('900', interval=0.2)\n",
    "      pg.sleep(1)\n",
    "      pg.press('tab', presses=5, interval=0.5)\n",
    "      pg.sleep(1)\n",
    "      pg.press('enter')\n",
    "\n",
    "      pg.sleep(1)\n",
    "\n",
    "      pg.hotkey('ctrl','home')\n",
    "      pg.sleep(1)\n",
    "      pg.press('down',presses=6, interval=0.5)\n",
    "      pg.sleep(1)\n",
    "      pg.hotkey('shiftleft','shiftright','end')\n",
    "      pg.sleep(1)\n",
    "      pg.hotkey('ctrl','b')\n",
    "      pg.sleep(1)\n",
    "\n",
    "      #글꼴 색상 선택을 위한 프레임 이동\n",
    "      driver.switch_to.default_content()\n",
    "      driver.switch_to.frame(\"dext_frame_WEC\")\n",
    "      driver.find_element(By.XPATH,'//*[@id=\"ue_WECdetail_font_color\"]').click()   \n",
    "\n",
    "      pg.press('right',presses=33, interval=0.3)\n",
    "      pg.press('enter')\n",
    "      pg.sleep(1)\n",
    "\n",
    "      #iframe 완전히 빠져 나가기\n",
    "      driver.switch_to.default_content()\n",
    "#____________________________________________________________________________\n",
    "      pg.press('esc')\n",
    "      pg.hotkey('ctrl','home') # 첫 슬라이드로 이동\n",
    "\n",
    "      #메일 보내기\n",
    "      pg.sleep(2)\n",
    "      driver.find_element(By.XPATH,'//*[@id=\"memo_content\"]/div[1]/ul[1]/li[1]/a').click()\n",
    "\n",
    "      #메일 발송 확인창 확인 버튼 클릭- alert창으로 처리\n",
    "      pg.sleep(5)\n",
    "      try:  # 메일 발송 확인창이 열릴 경우 alert accept 처리\n",
    "            alert=driver.switch_to.alert\n",
    "            alert.accept()\n",
    "      except:\n",
    "            print(\"메일 발송 확인창 없음. 계속 진행.\")\n",
    "\n",
    "      pg.sleep(3)"
   ]
  }
 ],
 "metadata": {
  "kernelspec": {
   "display_name": "Python 3.8.10 64-bit",
   "language": "python",
   "name": "python3"
  },
  "language_info": {
   "codemirror_mode": {
    "name": "ipython",
    "version": 3
   },
   "file_extension": ".py",
   "mimetype": "text/x-python",
   "name": "python",
   "nbconvert_exporter": "python",
   "pygments_lexer": "ipython3",
   "version": "3.8.10"
  },
  "orig_nbformat": 4,
  "vscode": {
   "interpreter": {
    "hash": "e2782e0ab7cab974e8fb2dfc8cec048a29dc3b50e54743df0c4a34ac41b2be7e"
   }
  }
 },
 "nbformat": 4,
 "nbformat_minor": 2
}
