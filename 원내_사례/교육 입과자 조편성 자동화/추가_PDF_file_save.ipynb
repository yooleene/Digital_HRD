{
 "cells": [
  {
   "cell_type": "markdown",
   "metadata": {},
   "source": [
    "### PDF파일 분할해서 저장하기_회사정보가 dict자료형인 경우"
   ]
  },
  {
   "cell_type": "code",
   "execution_count": null,
   "metadata": {},
   "outputs": [],
   "source": [
    "# 모듈 import\n",
    "from PyPDF2 import PdfReader, PdfWriter\n",
    "import pandas as pd\n",
    "import clipboard\n",
    "\n",
    "# PDF불러오기\n",
    "pdf_open = PdfReader(r\"C:\\Users\\poscouser\\Desktop\\버크만진단_PDF\\A_class.pdf\", \"rb\")\n",
    "\n",
    "# 명단&회사정보 가져오기\n",
    "df = pd.read_clipboard()\n",
    "data = df.to_dict('list') # 불러온 데이터 딕셔너리 자료로 만들기\n",
    "k = data[\"성명\"]\n",
    "v = data[\"회사명\"]\n",
    "dict_d = dict(zip(k, v)) # key = 이름, value = 회사 \n",
    "\n",
    "# 반복문으로 PDF분할 후, 분할한 데이터 저장하기\n",
    "for i in range(0, len(pdf_open.pages), 12):\n",
    "    pdf_new = PdfWriter()\n",
    "    nm = pdf_open.pages[i].extract_text().split('\\n')[2]\n",
    "    for j in range(12):\n",
    "        pdf_new.add_page(pdf_open.pages[j+i])\n",
    "    pdf_new.write(open(r\"C:\\Users\\poscouser\\Desktop\\버크만진단_PDF\\{}_{}.pdf\".format(dict_d[nm], nm), \"wb\"))\n",
    "\n",
    "print(\"데이터 추출 완료!!\")"
   ]
  },
  {
   "cell_type": "markdown",
   "metadata": {},
   "source": [
    "### PDF파일 분할해서 저장하기_회사정보가 df자료형인 경우"
   ]
  },
  {
   "cell_type": "code",
   "execution_count": null,
   "metadata": {},
   "outputs": [],
   "source": [
    "# 모듈 import\n",
    "from PyPDF2 import PdfReader, PdfWriter\n",
    "import pandas as pd\n",
    "import clipboard\n",
    "\n",
    "# PDF불러오기\n",
    "pdf_open = PdfReader(r\"C:\\Users\\poscouser\\Desktop\\버크만진단_PDF\\A_class.pdf\", \"rb\")\n",
    "\n",
    "# 명단&회사정보 가져오기\n",
    "df = pd.read_clipboard()\n",
    "\n",
    "# 반복문으로 PDF분할 후, 분할한 데이터 저장하기\n",
    "for i in range(0, len(pdf_open.pages), 12):\n",
    "    pdf_new = PdfWriter()\n",
    "    nm = pdf_open.pages[i].extract_text().split('\\n')[2]\n",
    "    if len(df[df[\"성명\"]==nm].index) == 1:\n",
    "        comp = df[df[\"성명\"]==nm][\"회사명\"].to_string().split()[-1]\n",
    "    else: comp = \"check\"\n",
    "    for j in range(12):\n",
    "        pdf_new.add_page(pdf_open.pages[j+i])\n",
    "    pdf_new.write(open(r\"C:\\Users\\poscouser\\Desktop\\버크만진단_PDF\\{}_{}.pdf\".format(comp, nm), \"wb\"))\n",
    "    break\n",
    "\n",
    "print(\"데이터 추출 완료!!\")"
   ]
  },
  {
   "cell_type": "markdown",
   "metadata": {},
   "source": [
    "-----"
   ]
  },
  {
   "cell_type": "markdown",
   "metadata": {},
   "source": [
    "## 아래는 코드 테스트 한 것"
   ]
  },
  {
   "cell_type": "markdown",
   "metadata": {},
   "source": [
    "### 필요한 모듈 불러오기"
   ]
  },
  {
   "cell_type": "code",
   "execution_count": null,
   "metadata": {},
   "outputs": [],
   "source": [
    "# 모듈 import\n",
    "from PyPDF2 import PdfReader, PdfWriter\n",
    "import pandas as pd\n",
    "import clipboard"
   ]
  },
  {
   "cell_type": "markdown",
   "metadata": {},
   "source": [
    "#### pdf불러오기"
   ]
  },
  {
   "cell_type": "code",
   "execution_count": null,
   "metadata": {},
   "outputs": [],
   "source": [
    "pdf_open = PdfReader(r\"C:\\Users\\poscouser\\Desktop\\버크만진단_PDF\\A_class.pdf\", \"rb\")"
   ]
  },
  {
   "cell_type": "markdown",
   "metadata": {},
   "source": [
    "#### 명단&회사 정보 가져오기"
   ]
  },
  {
   "cell_type": "code",
   "execution_count": null,
   "metadata": {},
   "outputs": [],
   "source": [
    "df = pd.read_clipboard()"
   ]
  },
  {
   "cell_type": "code",
   "execution_count": null,
   "metadata": {},
   "outputs": [],
   "source": [
    "nm = \"강병완\""
   ]
  },
  {
   "cell_type": "code",
   "execution_count": null,
   "metadata": {},
   "outputs": [],
   "source": [
    "len(df[df[\"성명\"]==nm].index)"
   ]
  },
  {
   "cell_type": "code",
   "execution_count": null,
   "metadata": {},
   "outputs": [],
   "source": [
    "df[df[\"성명\"]==nm][\"회사명\"].to_string().split()[-1]"
   ]
  },
  {
   "cell_type": "code",
   "execution_count": null,
   "metadata": {},
   "outputs": [],
   "source": [
    "type(df[df[\"성명\"]==nm][\"회사명\"])"
   ]
  },
  {
   "cell_type": "code",
   "execution_count": null,
   "metadata": {},
   "outputs": [],
   "source": [
    "df"
   ]
  },
  {
   "cell_type": "code",
   "execution_count": null,
   "metadata": {},
   "outputs": [],
   "source": [
    "data = df.to_dict('list') # 불러온 데이터 딕셔너리 자료로 만들기\n",
    "k = data[\"성명\"]\n",
    "v = data[\"회사명\"]\n",
    "dict_d = dict(zip(k, v)) # key = 이름, value = 회사 "
   ]
  },
  {
   "cell_type": "markdown",
   "metadata": {},
   "source": [
    "#### 반복문으로 데이터 저장하기"
   ]
  },
  {
   "cell_type": "code",
   "execution_count": null,
   "metadata": {},
   "outputs": [],
   "source": [
    "for i in range(0, len(pdf_open.pages), 12):\n",
    "    pdf_new = PdfWriter()\n",
    "    nm = pdf_open.pages[i].extract_text().split('\\n')[2]\n",
    "    for j in range(12):\n",
    "        pdf_new.add_page(pdf_open.pages[j+i])\n",
    "    pdf_new.write(open(r\"C:\\Users\\poscouser\\Desktop\\버크만진단_PDF\\{}_{}.pdf\".format(nm,dict_d[nm]), \"wb\"))\n",
    "    break\n",
    "\n",
    "print(\"데이터 추출 완료!!\")"
   ]
  },
  {
   "cell_type": "code",
   "execution_count": null,
   "metadata": {},
   "outputs": [],
   "source": [
    "for i in range(0, len(pdf_open.pages), 12):\n",
    "    pdf_new = PdfWriter()\n",
    "    nm = pdf_open.pages[i].extract_text().split('\\n')[2]\n",
    "    print(f\"{nm}데이터 추출 중...\")\n",
    "    for j in range(12):\n",
    "        pdf_new.add_page(pdf_open.pages[j+i])\n",
    "    pdf_new.write(open(f\"{nm}.pdf\", \"wb\"))"
   ]
  },
  {
   "cell_type": "markdown",
   "metadata": {},
   "source": [
    "## 코드 테스트"
   ]
  },
  {
   "cell_type": "markdown",
   "metadata": {},
   "source": [
    "#### 새 pdf 만들기"
   ]
  },
  {
   "cell_type": "code",
   "execution_count": null,
   "metadata": {},
   "outputs": [],
   "source": [
    "pdf_new = PdfWriter()"
   ]
  },
  {
   "cell_type": "markdown",
   "metadata": {},
   "source": [
    "#### 원하는 페이지의 텍스트 가져오기"
   ]
  },
  {
   "cell_type": "code",
   "execution_count": null,
   "metadata": {},
   "outputs": [],
   "source": [
    "title = pdf_open.pages[0].extract_text().split('\\n')\n",
    "name = title[2]"
   ]
  },
  {
   "cell_type": "markdown",
   "metadata": {},
   "source": [
    "#### 새 pdf에 자료 추가하기"
   ]
  },
  {
   "cell_type": "code",
   "execution_count": null,
   "metadata": {},
   "outputs": [],
   "source": [
    "# 기존의 1번 페이지를 가져와서 새로만든 pdf에 붙여넣기\n",
    "for i in range(24):\n",
    "    pdf_new.add_page(pdf_open.pages[i])\n",
    "\n",
    "pdf_new"
   ]
  },
  {
   "cell_type": "code",
   "execution_count": null,
   "metadata": {},
   "outputs": [],
   "source": [
    "len(pdf_new.pages)"
   ]
  },
  {
   "cell_type": "markdown",
   "metadata": {},
   "source": [
    "#### pdf페이지 개수 확인하기"
   ]
  },
  {
   "cell_type": "code",
   "execution_count": null,
   "metadata": {},
   "outputs": [],
   "source": [
    "len(pdf_open.pages)"
   ]
  },
  {
   "cell_type": "code",
   "execution_count": null,
   "metadata": {},
   "outputs": [],
   "source": [
    "# pdfReader.numPages → len(pdfReader.pages)\n",
    "\n",
    "# addPage(page_number) → add_page(page_number)\n",
    "\n",
    "# .getPage(page_number) → .pages[page_number] "
   ]
  },
  {
   "cell_type": "code",
   "execution_count": null,
   "metadata": {},
   "outputs": [],
   "source": [
    "# 모듈 import\n",
    "from PyPDF2 import PdfReader, PdfWriter"
   ]
  },
  {
   "cell_type": "code",
   "execution_count": null,
   "metadata": {},
   "outputs": [],
   "source": [
    "# pdf 불러오기\n",
    "pdf_open = PdfReader(r\"C:\\Users\\poscouser\\Desktop\\버크만진단_PDF\\A_class.pdf\", \"rb\")\n",
    "\n",
    "# 새 pdf만들기\n",
    "pdf_new = PdfWriter()\n",
    "\n",
    "# 불러온 pdf  페이지 수 확인하기\n",
    "len(pdf_open.pages)"
   ]
  },
  {
   "cell_type": "code",
   "execution_count": null,
   "metadata": {},
   "outputs": [],
   "source": [
    "for i in range(0, len(pdf_open.pages), 12):\n",
    "    pdf_new = PdfWriter()\n",
    "    nm = pdf_open.pages[i].extract_text().split('\\n')[2]\n",
    "    print(f\"{nm}데이터 추출 중...\")\n",
    "    for j in range(12):\n",
    "        pdf_new.add_page(pdf_open.pages[j+i])\n",
    "    pdf_new.write(open(f\"{nm}.pdf\", \"wb\"))"
   ]
  },
  {
   "cell_type": "code",
   "execution_count": null,
   "metadata": {},
   "outputs": [],
   "source": [
    "# step5.1번 페이지가 붙여진 새로운 pdf 파일을 현재 경로('./')에 원하는 이름으로 저장\n",
    "pdfWriter.write(open(\"./추출한 테스트 PDF 파일.pdf\", \"wb\"))"
   ]
  },
  {
   "cell_type": "code",
   "execution_count": null,
   "metadata": {},
   "outputs": [],
   "source": [
    "# 표지의 이름 가져오기\n",
    "title = pdf_open.pages[0].extract_text().split('\\n')\n",
    "name = title[2]"
   ]
  },
  {
   "cell_type": "code",
   "execution_count": null,
   "metadata": {},
   "outputs": [],
   "source": [
    "# 기존의 1page~24page자료 합치기\n",
    "for i in range(24):\n",
    "    pdf_new.add_page(pdf_open.pages[i])\n",
    "\n",
    "pdf_new"
   ]
  },
  {
   "cell_type": "code",
   "execution_count": null,
   "metadata": {},
   "outputs": [],
   "source": [
    "len(pdf_open.pages)"
   ]
  },
  {
   "cell_type": "code",
   "execution_count": null,
   "metadata": {},
   "outputs": [],
   "source": [
    "# 표지의 이름 가져오기\n",
    "title = pdf_open.pages[0].extract_text().split('\\n')\n",
    "name = title[2]"
   ]
  },
  {
   "cell_type": "code",
   "execution_count": null,
   "metadata": {},
   "outputs": [],
   "source": [
    "pdf_open.pages[0].extract_text().split('\\n')"
   ]
  },
  {
   "cell_type": "code",
   "execution_count": null,
   "metadata": {},
   "outputs": [],
   "source": [
    "list(range(0,552, 12))"
   ]
  },
  {
   "cell_type": "code",
   "execution_count": null,
   "metadata": {},
   "outputs": [],
   "source": [
    "for i in range(12)"
   ]
  },
  {
   "cell_type": "code",
   "execution_count": null,
   "metadata": {},
   "outputs": [],
   "source": [
    "a = \"사과\"\n",
    "print(f\"{a}.pdf\")"
   ]
  },
  {
   "cell_type": "code",
   "execution_count": null,
   "metadata": {},
   "outputs": [],
   "source": [
    "import pandas as pd\n",
    "import clipboard"
   ]
  },
  {
   "cell_type": "code",
   "execution_count": null,
   "metadata": {},
   "outputs": [],
   "source": [
    "df = pd.read_clipboard()"
   ]
  },
  {
   "cell_type": "code",
   "execution_count": null,
   "metadata": {},
   "outputs": [],
   "source": [
    "df"
   ]
  },
  {
   "cell_type": "code",
   "execution_count": null,
   "metadata": {},
   "outputs": [],
   "source": [
    "data = df.to_dict('list')\n",
    "data"
   ]
  },
  {
   "cell_type": "code",
   "execution_count": null,
   "metadata": {},
   "outputs": [],
   "source": [
    "k = data[\"성명\"]\n",
    "v = data[\"회사명\"]\n",
    "dict_d = dict(zip(k, v))\n",
    "dict_d"
   ]
  },
  {
   "cell_type": "code",
   "execution_count": null,
   "metadata": {},
   "outputs": [],
   "source": [
    "dict_d = dict(zip(k, v))\n",
    "dict_d"
   ]
  }
 ],
 "metadata": {
  "kernelspec": {
   "display_name": "Python 3.8.10 64-bit",
   "language": "python",
   "name": "python3"
  },
  "language_info": {
   "codemirror_mode": {
    "name": "ipython",
    "version": 3
   },
   "file_extension": ".py",
   "mimetype": "text/x-python",
   "name": "python",
   "nbconvert_exporter": "python",
   "pygments_lexer": "ipython3",
   "version": "3.8.10"
  },
  "orig_nbformat": 4,
  "vscode": {
   "interpreter": {
    "hash": "e2782e0ab7cab974e8fb2dfc8cec048a29dc3b50e54743df0c4a34ac41b2be7e"
   }
  }
 },
 "nbformat": 4,
 "nbformat_minor": 2
}
