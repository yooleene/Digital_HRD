{
 "cells": [
  {
   "cell_type": "markdown",
   "metadata": {},
   "source": [
    "### 조편성(회사명, 성별, 연령으로 정렬)"
   ]
  },
  {
   "cell_type": "code",
   "execution_count": null,
   "metadata": {},
   "outputs": [],
   "source": [
    "# 모듈 불러오기\n",
    "import pandas as pd\n",
    "\n",
    "# 그룹 개수 설정\n",
    "g = 12\n",
    "\n",
    "# 데이터 불러오기, 엑셀 파일 열어서 데이터 ctrl+v후에 아래 코드 실행\n",
    "df = pd.read_clipboard()\n",
    "\n",
    "# \"성별\" == \"남\" 자료 추출해서 새로운 변수에 저장\n",
    "df_m = df[df[\"성별\"]==\"남\"]\n",
    "\n",
    "# 데이터 칼럼별로 sort_value해서 기존 데이터에 저장하기\n",
    "df_m.sort_values(by = [\"회사명\", \"연령\", \"전공\"], inplace=True)\n",
    "\n",
    "# 추출된 데이터 인덱스(행개수) 확인하기\n",
    "row_idx = len(df_m.index)\n",
    "\n",
    "# 행개수에 맞춰서 1~12 리스트자료 만들기\n",
    "li = []\n",
    "for i in range(row_idx//g+1):\n",
    "    j = [j for j in range(1,13)]\n",
    "    li.extend(j)\n",
    "\n",
    "# 리스트자료와 추출된 데이터의 인덱스(행개수) 맞추기\n",
    "g_li = li[:row_idx]\n",
    "\n",
    "# 조편성 추가하기\n",
    "df_w[\"조편성\"] = g_li\n",
    "\n",
    "# \"성별\" == \"여\" 자료 추출해서 새로운 변수에 저장\n",
    "df_w = df[df[\"성별\"]==\"여\"]\n",
    "\n",
    "# 데이터 칼럼별로 sort_value해서 기존 데이터에 저장하기\n",
    "df_w.sort_values(by = [\"회사명\", \"연령\", \"전공\"], inplace=True)\n",
    "\n",
    "# 추출된 데이터 인덱스(행개수) 확인하기\n",
    "row_idx = len(df_w.index)\n",
    "\n",
    "# 행개수에 맞춰서 1~12 리스트자료 만들기\n",
    "li = []\n",
    "for i in range(row_idx//g+1):\n",
    "    j = [j for j in range(1,13)]\n",
    "    li.extend(j)\n",
    "\n",
    "# 리스트자료와 추출된 데이터의 인덱스(행개수) 맞추기\n",
    "g_li = li[:row_idx]\n",
    "\n",
    "# 조편성 추가하기\n",
    "df_w[\"조편성\"] = g_li\n",
    "\n",
    "# 두 데이터 합치기\n",
    "result = pd.concat([df_m, df_w])\n",
    "\n",
    "# 데이터 내보내기\n",
    "result.to_excel(\"./조편성 명단.xlsx\")"
   ]
  },
  {
   "cell_type": "markdown",
   "metadata": {},
   "source": [
    "-------------"
   ]
  },
  {
   "cell_type": "markdown",
   "metadata": {},
   "source": [
    "## 아래는 코드 테스트 한 것"
   ]
  },
  {
   "cell_type": "markdown",
   "metadata": {},
   "source": [
    "### 조편성 개수 변수에 저장하기"
   ]
  },
  {
   "cell_type": "code",
   "execution_count": null,
   "metadata": {},
   "outputs": [],
   "source": [
    "g = 12"
   ]
  },
  {
   "cell_type": "markdown",
   "metadata": {},
   "source": [
    "### 모듈불러오기"
   ]
  },
  {
   "cell_type": "code",
   "execution_count": null,
   "metadata": {},
   "outputs": [],
   "source": [
    "import pandas as pd"
   ]
  },
  {
   "cell_type": "markdown",
   "metadata": {},
   "source": [
    "### 데이터 불러오기"
   ]
  },
  {
   "cell_type": "code",
   "execution_count": null,
   "metadata": {},
   "outputs": [],
   "source": [
    "# 엑셀 파일 열어서 데이터 ctrl+v후에 아래 코드 실행\n",
    "df = pd.read_clipboard()\n",
    "df"
   ]
  },
  {
   "cell_type": "markdown",
   "metadata": {},
   "source": [
    "### \"성별\" == \"남\" 자료 추출해서 새로운 변수에 저장"
   ]
  },
  {
   "cell_type": "code",
   "execution_count": null,
   "metadata": {},
   "outputs": [],
   "source": [
    "df_m = df[df[\"성별\"]==\"남\"]\n",
    "df_m"
   ]
  },
  {
   "cell_type": "markdown",
   "metadata": {},
   "source": [
    "### 데이터 칼럼별로 sort_value해서 기존 데이터에 저장하기"
   ]
  },
  {
   "cell_type": "code",
   "execution_count": null,
   "metadata": {},
   "outputs": [],
   "source": [
    "df_m.sort_values(by = [\"회사명\", \"연령\", \"전공\"], inplace=True)\n",
    "df_m"
   ]
  },
  {
   "cell_type": "markdown",
   "metadata": {},
   "source": [
    "### 추출된 데이터 인덱스(행개수) 확인하기"
   ]
  },
  {
   "cell_type": "code",
   "execution_count": null,
   "metadata": {},
   "outputs": [],
   "source": [
    "row_idx = len(df_m.index)\n",
    "row_idx"
   ]
  },
  {
   "cell_type": "markdown",
   "metadata": {},
   "source": [
    "### 행개수에 맞춰서 1~12 리스트자료 만들기"
   ]
  },
  {
   "cell_type": "code",
   "execution_count": null,
   "metadata": {},
   "outputs": [],
   "source": [
    "li = []\n",
    "for i in range(row_idx//g+1):\n",
    "    j = [j for j in range(1,13)]\n",
    "    li.extend(j)\n",
    "\n",
    "li"
   ]
  },
  {
   "cell_type": "markdown",
   "metadata": {},
   "source": [
    "### 리스트자료와 추출된 데이터의 인덱스(행개수) 맞추기"
   ]
  },
  {
   "cell_type": "code",
   "execution_count": null,
   "metadata": {},
   "outputs": [],
   "source": [
    "g_li = li[:row_idx]"
   ]
  },
  {
   "cell_type": "markdown",
   "metadata": {},
   "source": [
    "### 조편성을 추가하기"
   ]
  },
  {
   "cell_type": "code",
   "execution_count": null,
   "metadata": {},
   "outputs": [],
   "source": [
    "df_m[\"조편성\"] = g_li\n",
    "df_m"
   ]
  }
 ],
 "metadata": {
  "kernelspec": {
   "display_name": "Python 3.8.10 64-bit",
   "language": "python",
   "name": "python3"
  },
  "language_info": {
   "codemirror_mode": {
    "name": "ipython",
    "version": 3
   },
   "file_extension": ".py",
   "mimetype": "text/x-python",
   "name": "python",
   "nbconvert_exporter": "python",
   "pygments_lexer": "ipython3",
   "version": "3.8.10"
  },
  "orig_nbformat": 4,
  "vscode": {
   "interpreter": {
    "hash": "e2782e0ab7cab974e8fb2dfc8cec048a29dc3b50e54743df0c4a34ac41b2be7e"
   }
  }
 },
 "nbformat": 4,
 "nbformat_minor": 2
}
